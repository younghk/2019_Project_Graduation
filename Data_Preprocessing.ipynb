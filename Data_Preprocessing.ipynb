{
 "cells": [
  {
   "cell_type": "code",
   "execution_count": 2,
   "metadata": {},
   "outputs": [],
   "source": [
    "import pandas as pd\n",
    "import datetime\n",
    "import requests\n",
    "import json\n",
    "import csv\n",
    "# import matplotlib as plt\n",
    "\n",
    "#-*- coding: utf-8 -*-\n",
    "\n",
    "# kim key no.1 : c15fcbaab76cc525e9342c5e4dda712f\n",
    "# kim key no.2 : c3268b0918814ae0a2bc298f7ba893a3\n",
    "# lee key no.1 : 77a87d41d6e2cbe3131a190d5c48514e \n",
    "# lee key no.2 : e53650978fc97b47c7f932136ce2c08a\n",
    "\n",
    "key1 = 'c3268b0918814ae0a2bc298f7ba893a3'\n",
    "key2 = 'c3268b0918814ae0a2bc298f7ba893a3'"
   ]
  },
  {
   "cell_type": "code",
   "execution_count": null,
   "metadata": {},
   "outputs": [],
   "source": [
    "key1 = 'e53650978fc97b47c7f932136ce2c08a'\n",
    "\n",
    "def crawl_movie_boxoffice_data(start_date, end_date, key = key1) :\n",
    "    result_list = []\n",
    "    url = 'http://www.kobis.or.kr/kobisopenapi/webservice/rest/boxoffice/searchDailyBoxOfficeList.json'\n",
    "    \n",
    "    for single_date in pd.date_range(start_date, end_date) :\n",
    "        for multi, rep in zip(['Y', 'Y', 'N', 'N'], ['K', 'F', 'K', 'F']) :\n",
    "            payload = {\n",
    "                'key' : key,\n",
    "                'targetDt' : single_date.strftime('%Y%m%d'),\n",
    "                'itemPerPage' : '10',\n",
    "                'multiMovieYn' : multi,\n",
    "                'repNationCd' : rep\n",
    "            }\n",
    "            \n",
    "            req = requests.get(url, params = payload)\n",
    "\n",
    "            for item in req.json()['boxOfficeResult']['dailyBoxOfficeList'] :\n",
    "                temp_list = []\n",
    "                header_list = []\n",
    "                for header, value in item.items() :\n",
    "                    header_list.append(header)\n",
    "                    temp_list.append(value)\n",
    "                    \n",
    "                temp_list.append(single_date)\n",
    "                header_list.append('CurrentDate')\n",
    "                \n",
    "                temp_list.append(multi)\n",
    "                header_list.append('multi')\n",
    "                \n",
    "                temp_list.append(rep)\n",
    "                header_list.append('Nation')\n",
    "                \n",
    "                result_list.append(temp_list)\n",
    "                \n",
    "    return pd.DataFrame(result_list, columns = header_list)\n",
    "\n",
    "movie_boxoffice_list = crawl_movie_boxoffice_data('20140101', '20141231', key = key1)\n",
    "movie_boxoffice_list.to_csv('movie_boxoffice_2014.csv', index = False)"
   ]
  },
  {
   "cell_type": "code",
   "execution_count": 18,
   "metadata": {
    "collapsed": true
   },
   "outputs": [
    {
     "name": "stdout",
     "output_type": "stream",
     "text": [
      "2017\n",
      "2018\n"
     ]
    }
   ],
   "source": [
    "all_filenames = []\n",
    "for i in range(2017, 2019) :\n",
    "    all_filenames.append('movie_boxoffice_'+str(i)+'.csv')\n",
    "movie_boxoffice_combined = pd.concat([pd.read_csv(f) for f in all_filenames ])\n",
    "\n",
    "movie_boxoffice_combined.to_csv('movie_boxoffice.csv', index = False, encoding = 'utf-8')"
   ]
  },
  {
   "cell_type": "code",
   "execution_count": 19,
   "metadata": {
    "collapsed": true
   },
   "outputs": [
    {
     "name": "stdout",
     "output_type": "stream",
     "text": [
      "14446\n",
      "14560\n",
      "29006\n"
     ]
    }
   ],
   "source": [
    "movie_boxoffice_file_2017 = open('movie_boxoffice_2017.csv', 'r', encoding = 'utf-8')\n",
    "movie_boxoffice_file_2018 = open('movie_boxoffice_2018.csv', 'r', encoding = 'utf-8')\n",
    "\n",
    "fa=pd.read_csv(movie_boxoffice_file_2017)\n",
    "fb=pd.read_csv(movie_boxoffice_file_2018)\n",
    "\n",
    "print(len(fa))\n",
    "print(len(fb))\n",
    "with open('movie_boxoffice.csv', 'r', encoding = 'utf-8') as infile :\n",
    "    fc=pd.read_csv(infile)\n",
    "    print(len(fc))"
   ]
  },
  {
   "cell_type": "code",
   "execution_count": null,
   "metadata": {},
   "outputs": [],
   "source": [
    "movie_boxoffice_list = pd.read_csv('movie_boxoffice.csv')"
   ]
  },
  {
   "cell_type": "code",
   "execution_count": null,
   "metadata": {},
   "outputs": [],
   "source": [
    "# movie_rating_list = pd.DataFrame({'movieCd' : movie_boxoffice_f.movieCd.drop_duplicates(), 'rating' : 0})\n",
    "movie_rating_list = pd.DataFrame({'movieCd' : movie_boxoffice_list.movieCd.drop_duplicates(), 'rating' : 0})"
   ]
  },
  {
   "cell_type": "code",
   "execution_count": null,
   "metadata": {},
   "outputs": [],
   "source": [
    "def crawl_movie_detail_data(lists, key = key2) :\n",
    "    movie_detail_json = dict()\n",
    "    url = 'http://www.kobis.or.kr/kobisopenapi/webservice/rest/movie/searchMovieInfo.json'\n",
    "    \n",
    "    for movieCd in lists['movieCd'] :\n",
    "        payload = {\n",
    "            'key' : key,\n",
    "            'movieCd' : movieCd\n",
    "        }\n",
    "        req = requests.get(url, params = payload)\n",
    "        \n",
    "        movie_detail_json[movieCd] = req.json()['movieInfoResult']['movieInfo']\n",
    "        \n",
    "    return movie_detail_json\n",
    "\n",
    "movie_detail = crawl_movie_data(movie_boxoffice_list)\n",
    "\n",
    "with open('movie_detail.json', 'w', encoding = 'utf-8') as output :\n",
    "    json.dump(movie_detail, output)"
   ]
  }
 ],
 "metadata": {
  "kernelspec": {
   "display_name": "Python 3",
   "language": "python",
   "name": "python3"
  },
  "language_info": {
   "codemirror_mode": {
    "name": "ipython",
    "version": 3
   },
   "file_extension": ".py",
   "mimetype": "text/x-python",
   "name": "python",
   "nbconvert_exporter": "python",
   "pygments_lexer": "ipython3",
   "version": "3.7.3"
  }
 },
 "nbformat": 4,
 "nbformat_minor": 2
}
