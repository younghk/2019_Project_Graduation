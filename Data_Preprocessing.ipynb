{
 "cells": [
  {
   "cell_type": "code",
   "execution_count": 1,
   "metadata": {},
   "outputs": [],
   "source": [
    "import pandas as pd\n",
    "import datetime\n",
    "import requests\n",
    "import json\n",
    "import csv\n",
    "# import matplotlib as plt\n",
    "\n",
    "#-*- coding: utf-8 -*-\n",
    "\n",
    "# kim key no.1 : c15fcbaab76cc525e9342c5e4dda712f\n",
    "# kim key no.2 : c3268b0918814ae0a2bc298f7ba893a3\n",
    "# lee key no.1 : 77a87d41d6e2cbe3131a190d5c48514e \n",
    "# lee key no.2 : e53650978fc97b47c7f932136ce2c08a"
   ]
  },
  {
   "cell_type": "code",
   "execution_count": 3,
   "metadata": {},
   "outputs": [],
   "source": [
    "key1 = 'e53650978fc97b47c7f932136ce2c08a'\n",
    "\n",
    "def crawl_movie_boxoffice_data(start_date, end_date, key = key1) :\n",
    "    result_list = []\n",
    "    url = 'http://www.kobis.or.kr/kobisopenapi/webservice/rest/boxoffice/searchDailyBoxOfficeList.json'\n",
    "    \n",
    "    for single_date in pd.date_range(start_date, end_date) :\n",
    "        for multi, rep in zip(['Y', 'Y', 'N', 'N'], ['K', 'F', 'K', 'F']) :\n",
    "            payload = {\n",
    "                'key' : key,\n",
    "                'targetDt' : single_date.strftime('%Y%m%d'),\n",
    "                'itemPerPage' : '10',\n",
    "                'multiMovieYn' : multi,\n",
    "                'repNationCd' : rep\n",
    "            }\n",
    "            \n",
    "            req = requests.get(url, params = payload)\n",
    "\n",
    "            for item in req.json()['boxOfficeResult']['dailyBoxOfficeList'] :\n",
    "                temp_list = []\n",
    "                header_list = []\n",
    "                for header, value in item.items() :\n",
    "                    header_list.append(header)\n",
    "                    temp_list.append(value)\n",
    "                    \n",
    "                temp_list.append(single_date)\n",
    "                header_list.append('CurrentDate')\n",
    "                \n",
    "                temp_list.append(multi)\n",
    "                header_list.append('multi')\n",
    "                \n",
    "                temp_list.append(rep)\n",
    "                header_list.append('Nation')\n",
    "                \n",
    "                result_list.append(temp_list)\n",
    "                \n",
    "    return pd.DataFrame(result_list, columns = header_list)\n",
    "\n",
    "movie_boxoffice_list = crawl_movie_boxoffice_data('20100101', '20101231', key = key1)\n",
    "movie_boxoffice_list.to_csv('movie_boxoffice_2010.csv', index = False)"
   ]
  },
  {
   "cell_type": "code",
   "execution_count": 25,
   "metadata": {},
   "outputs": [],
   "source": [
    "all_filenames = []\n",
    "for i in range(2013, 2019) :\n",
    "    all_filenames.append('movie_boxoffice_'+str(i)+'.csv')\n",
    "movie_boxoffice_combined = pd.concat([pd.read_csv(f) for f in all_filenames ])\n",
    "\n",
    "movie_boxoffice_combined.to_csv('movie_boxoffice.csv', index = False, encoding = 'utf-8')"
   ]
  },
  {
   "cell_type": "code",
   "execution_count": 19,
   "metadata": {
    "collapsed": true
   },
   "outputs": [
    {
     "name": "stdout",
     "output_type": "stream",
     "text": [
      "14446\n",
      "14560\n",
      "29006\n"
     ]
    }
   ],
   "source": [
    "movie_boxoffice_file_2017 = open('movie_boxoffice_2017.csv', 'r', encoding = 'utf-8')\n",
    "movie_boxoffice_file_2018 = open('movie_boxoffice_2018.csv', 'r', encoding = 'utf-8')\n",
    "\n",
    "fa=pd.read_csv(movie_boxoffice_file_2017)\n",
    "fb=pd.read_csv(movie_boxoffice_file_2018)\n",
    "\n",
    "print(len(fa))\n",
    "print(len(fb))\n",
    "with open('movie_boxoffice.csv', 'r', encoding = 'utf-8') as infile :\n",
    "    fc=pd.read_csv(infile)\n",
    "    print(len(fc))"
   ]
  },
  {
   "cell_type": "code",
   "execution_count": 26,
   "metadata": {},
   "outputs": [
    {
     "data": {
      "text/plain": [
       "86747"
      ]
     },
     "execution_count": 26,
     "metadata": {},
     "output_type": "execute_result"
    }
   ],
   "source": [
    "movie_boxoffice_list = pd.read_csv('movie_boxoffice.csv')\n",
    "\n",
    "len(movie_boxoffice_list)"
   ]
  },
  {
   "cell_type": "code",
   "execution_count": 27,
   "metadata": {},
   "outputs": [
    {
     "data": {
      "text/plain": [
       "6195"
      ]
     },
     "execution_count": 27,
     "metadata": {},
     "output_type": "execute_result"
    }
   ],
   "source": [
    "# movie_rating_list = pd.DataFrame({'movieCd' : movie_boxoffice_f.movieCd.drop_duplicates(), 'rating' : 0})\n",
    "movie_rating_list = pd.DataFrame({'movieCd' : movie_boxoffice_list.movieCd.drop_duplicates(), 'rating' : 0})\n",
    "\n",
    "len(movie_rating_list)"
   ]
  },
  {
   "cell_type": "code",
   "execution_count": 28,
   "metadata": {},
   "outputs": [],
   "source": [
    "movie_rating_list.to_csv('movie_rating_list.csv', index = False, encoding = 'utf-8')"
   ]
  },
  {
   "cell_type": "code",
   "execution_count": 45,
   "metadata": {
    "collapsed": true
   },
   "outputs": [
    {
     "name": "stdout",
     "output_type": "stream",
     "text": [
      "3000\n",
      "3000\n",
      "195\n"
     ]
    }
   ],
   "source": [
    "## sorting movie_rating_list\n",
    "# and divide 3 parts to use seperate keys\n",
    "\n",
    "movie_rating_list=movie_rating_list.sort_values(by='movieCd', ascending=True).reset_index()\n",
    "mrl1 = movie_rating_list.iloc[0:3000]\n",
    "mrl2 = movie_rating_list.iloc[3000:6000]\n",
    "mrl3 = movie_rating_list.iloc[6000:]\n",
    "\n"
   ]
  },
  {
   "cell_type": "code",
   "execution_count": 50,
   "metadata": {},
   "outputs": [],
   "source": [
    "key2 = '77a87d41d6e2cbe3131a190d5c48514e'\n",
    "\n",
    "def crawl_movie_detail_data(lists, key = key2) :\n",
    "    movie_detail_json = dict()\n",
    "    url = 'http://www.kobis.or.kr/kobisopenapi/webservice/rest/movie/searchMovieInfo.json'\n",
    "    \n",
    "    for movieCd in lists['movieCd'] :\n",
    "        payload = {\n",
    "            'key' : key,\n",
    "            'movieCd' : movieCd\n",
    "        }\n",
    "        req = requests.get(url, params = payload)\n",
    "        \n",
    "        try :\n",
    "            movie_detail_json[movieCd] = req.json()['movieInfoResult']['movieInfo']\n",
    "        except :\n",
    "            print(\"Error !\")\n",
    "            print(req.json())\n",
    "        \n",
    "    return movie_detail_json\n",
    "\n",
    "movie_detail = crawl_movie_detail_data(mrl3)\n",
    "\n",
    "with open('movie_detail_3.json', 'w', encoding = 'utf-8') as output :\n",
    "    json.dump(movie_detail, output)"
   ]
  },
  {
   "cell_type": "code",
   "execution_count": 11,
   "metadata": {},
   "outputs": [
    {
     "ename": "TypeError",
     "evalue": "unsupported operand type(s) for +: 'dict' and 'dict'",
     "output_type": "error",
     "traceback": [
      "\u001b[0;31m---------------------------------------------------------------------------\u001b[0m",
      "\u001b[0;31mTypeError\u001b[0m                                 Traceback (most recent call last)",
      "\u001b[0;32m<ipython-input-11-658fa76dd5f3>\u001b[0m in \u001b[0;36m<module>\u001b[0;34m\u001b[0m\n\u001b[1;32m      6\u001b[0m     \u001b[0mmovie_detail_3\u001b[0m \u001b[0;34m=\u001b[0m \u001b[0mjson\u001b[0m\u001b[0;34m.\u001b[0m\u001b[0mload\u001b[0m\u001b[0;34m(\u001b[0m\u001b[0mf\u001b[0m\u001b[0;34m)\u001b[0m\u001b[0;34m\u001b[0m\u001b[0;34m\u001b[0m\u001b[0m\n\u001b[1;32m      7\u001b[0m \u001b[0;34m\u001b[0m\u001b[0m\n\u001b[0;32m----> 8\u001b[0;31m \u001b[0mmovie_detail\u001b[0m \u001b[0;34m=\u001b[0m \u001b[0mmovie_detail_1\u001b[0m \u001b[0;34m+\u001b[0m \u001b[0mmovie_detail_2\u001b[0m \u001b[0;34m+\u001b[0m \u001b[0mmovie_detail_3\u001b[0m\u001b[0;34m\u001b[0m\u001b[0;34m\u001b[0m\u001b[0m\n\u001b[0m\u001b[1;32m      9\u001b[0m \u001b[0;34m\u001b[0m\u001b[0m\n\u001b[1;32m     10\u001b[0m \u001b[0mlen\u001b[0m\u001b[0;34m(\u001b[0m\u001b[0mmovie_detail\u001b[0m\u001b[0;34m)\u001b[0m\u001b[0;34m\u001b[0m\u001b[0;34m\u001b[0m\u001b[0m\n",
      "\u001b[0;31mTypeError\u001b[0m: unsupported operand type(s) for +: 'dict' and 'dict'"
     ]
    }
   ],
   "source": [
    "with open('movie_detail_1.json', 'r') as f :\n",
    "    movie_detail_1 = json.load(f)\n",
    "with open('movie_detail_2.json', 'r') as f :\n",
    "    movie_detail_2 = json.load(f)\n",
    "with open('movie_detail_3.json', 'r') as f :\n",
    "    movie_detail_3 = json.load(f)"
   ]
  },
  {
   "cell_type": "code",
   "execution_count": 29,
   "metadata": {},
   "outputs": [
    {
     "name": "stdout",
     "output_type": "stream",
     "text": [
      "3000\n",
      "6000\n",
      "6195\n"
     ]
    }
   ],
   "source": [
    "## concatenate movie detail(json type) files\n",
    "# 2013 ~ 2018\n",
    "\n",
    "movie_detail = dict()\n",
    "for j in movie_detail_1 :\n",
    "    movie_detail[j] = movie_detail_1[j]\n",
    "\n",
    "print(len(movie_detail))\n",
    "for j in movie_detail_2 :\n",
    "    movie_detail[j] = movie_detail_2[j]\n",
    "\n",
    "print(len(movie_detail))\n",
    "for j in movie_detail_3 :\n",
    "    movie_detail[j] = movie_detail_3[j]\n",
    "    \n",
    "print(len(movie_detail))\n",
    "\n",
    "with open('movie_detail', 'w', encoding = 'utf-8') as output :\n",
    "    json.dump(movie_detail, output)"
   ]
  },
  {
   "cell_type": "code",
   "execution_count": null,
   "metadata": {},
   "outputs": [],
   "source": [
    "# movie_detail = json.load('movie_detail.json')\n",
    "\n",
    "for i in range(len(movie_rating_list)) :\n",
    "    url = 'https://openapi.naver.com/v1/search/movie.json'\n",
    "    payload = {\n",
    "        'query' : movie_detail[movie_rating_list.iloc[i, 0]]['movieNm']\n",
    "        , 'display' : 10\n",
    "    }\n",
    "    \n",
    "    headers = {\n",
    "        'X-Naver-Client-Id ' : 'V8LONuGkI0U72r0RY3yo',\n",
    "        'X-Naver-Client-Secret' : 'VKW2Diwq5d'\n",
    "    }\n",
    "    \n",
    "    if (movie_rating_list.iloc[i, 1] == 0) | (movie_rating_list.iloc[i, 1] == 'NA') :\n",
    "        try :\n",
    "            req = requests.get(url, headers = headers, params = payload)\n",
    "            req.json()['total']\n",
    "        except :\n",
    "            movie_rating_list.iloc[i, 1] = 'NA'\n",
    "        else :\n",
    "            if(req.json()['total'] == 1) :\n",
    "                movie_rating_list.iloc[i, 1] = req.json()['items'][0]['userRating']\n",
    "            else :\n",
    "                d = movie_detail[movie_rating_list.iloc[i, 0]]['directors']\n",
    "                flag = False\n",
    "                for jj in d :\n",
    "                    for j in req.json()['items'] :\n",
    "                        if(j['director'][:-1] == jj['peopleNm']) :\n",
    "                            movie_rating_list.iloc[i,1]=j['userRating']\n",
    "                            flag = True\n",
    "                        if(flag == True) :\n",
    "                            break\n",
    "                    if(flag == True) :\n",
    "                        break"
   ]
  },
  {
   "cell_type": "code",
   "execution_count": 4,
   "metadata": {},
   "outputs": [
    {
     "ename": "NameError",
     "evalue": "name 'mrl1' is not defined",
     "output_type": "error",
     "traceback": [
      "\u001b[0;31m---------------------------------------------------------------------------\u001b[0m",
      "\u001b[0;31mNameError\u001b[0m                                 Traceback (most recent call last)",
      "\u001b[0;32m<ipython-input-4-d012dc3777fa>\u001b[0m in \u001b[0;36m<module>\u001b[0;34m\u001b[0m\n\u001b[0;32m----> 1\u001b[0;31m \u001b[0mmrl1\u001b[0m\u001b[0;34m\u001b[0m\u001b[0;34m\u001b[0m\u001b[0m\n\u001b[0m",
      "\u001b[0;31mNameError\u001b[0m: name 'mrl1' is not defined"
     ]
    }
   ],
   "source": []
  },
  {
   "cell_type": "code",
   "execution_count": null,
   "metadata": {},
   "outputs": [],
   "source": []
  }
 ],
 "metadata": {
  "kernelspec": {
   "display_name": "Python 3",
   "language": "python",
   "name": "python3"
  },
  "language_info": {
   "codemirror_mode": {
    "name": "ipython",
    "version": 3
   },
   "file_extension": ".py",
   "mimetype": "text/x-python",
   "name": "python",
   "nbconvert_exporter": "python",
   "pygments_lexer": "ipython3",
   "version": "3.7.3"
  }
 },
 "nbformat": 4,
 "nbformat_minor": 2
}
